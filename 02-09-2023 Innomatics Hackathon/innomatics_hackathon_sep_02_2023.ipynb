{
 "cells": [
  {
   "cell_type": "markdown",
   "id": "a78e8c88",
   "metadata": {},
   "source": [
    "# INNOMATICS HACKATHON | 2nd September 2023\n",
    "### Data Analysis & Machine Learning on Uber rides data recorded between 2009-01-01 and 2015-06-30."
   ]
  },
  {
   "cell_type": "code",
   "execution_count": 31,
   "id": "e76847c4",
   "metadata": {},
   "outputs": [],
   "source": [
    "#Import libraries\n",
    "import pandas as pd\n",
    "import numpy as np\n",
    "import matplotlib.pyplot as plt\n",
    "import seaborn as sns"
   ]
  },
  {
   "cell_type": "code",
   "execution_count": 2,
   "id": "f650a1b4",
   "metadata": {},
   "outputs": [
    {
     "data": {
      "text/html": [
       "<div>\n",
       "<style scoped>\n",
       "    .dataframe tbody tr th:only-of-type {\n",
       "        vertical-align: middle;\n",
       "    }\n",
       "\n",
       "    .dataframe tbody tr th {\n",
       "        vertical-align: top;\n",
       "    }\n",
       "\n",
       "    .dataframe thead th {\n",
       "        text-align: right;\n",
       "    }\n",
       "</style>\n",
       "<table border=\"1\" class=\"dataframe\">\n",
       "  <thead>\n",
       "    <tr style=\"text-align: right;\">\n",
       "      <th></th>\n",
       "      <th>ride_id</th>\n",
       "      <th>fare_amount</th>\n",
       "      <th>pickup_datetime</th>\n",
       "      <th>pickup_longitude</th>\n",
       "      <th>pickup_latitude</th>\n",
       "      <th>dropoff_longitude</th>\n",
       "      <th>dropoff_latitude</th>\n",
       "      <th>passenger_count</th>\n",
       "    </tr>\n",
       "  </thead>\n",
       "  <tbody>\n",
       "    <tr>\n",
       "      <th>0</th>\n",
       "      <td>24238194</td>\n",
       "      <td>7.5</td>\n",
       "      <td>2015-05-07 19:52:06 UTC</td>\n",
       "      <td>-73.999817</td>\n",
       "      <td>40.738354</td>\n",
       "      <td>-73.999512</td>\n",
       "      <td>40.723217</td>\n",
       "      <td>1</td>\n",
       "    </tr>\n",
       "    <tr>\n",
       "      <th>1</th>\n",
       "      <td>27835199</td>\n",
       "      <td>7.7</td>\n",
       "      <td>2009-07-17 20:04:56 UTC</td>\n",
       "      <td>-73.994355</td>\n",
       "      <td>40.728225</td>\n",
       "      <td>-73.994710</td>\n",
       "      <td>40.750325</td>\n",
       "      <td>1</td>\n",
       "    </tr>\n",
       "    <tr>\n",
       "      <th>2</th>\n",
       "      <td>44984355</td>\n",
       "      <td>12.9</td>\n",
       "      <td>2009-08-24 21:45:00 UTC</td>\n",
       "      <td>-74.005043</td>\n",
       "      <td>40.740770</td>\n",
       "      <td>-73.962565</td>\n",
       "      <td>40.772647</td>\n",
       "      <td>1</td>\n",
       "    </tr>\n",
       "    <tr>\n",
       "      <th>3</th>\n",
       "      <td>25894730</td>\n",
       "      <td>5.3</td>\n",
       "      <td>2009-06-26 08:22:21 UTC</td>\n",
       "      <td>-73.976124</td>\n",
       "      <td>40.790844</td>\n",
       "      <td>-73.965316</td>\n",
       "      <td>40.803349</td>\n",
       "      <td>3</td>\n",
       "    </tr>\n",
       "    <tr>\n",
       "      <th>4</th>\n",
       "      <td>17610152</td>\n",
       "      <td>16.0</td>\n",
       "      <td>2014-08-28 17:47:00 UTC</td>\n",
       "      <td>-73.925023</td>\n",
       "      <td>40.744085</td>\n",
       "      <td>-73.973082</td>\n",
       "      <td>40.761247</td>\n",
       "      <td>5</td>\n",
       "    </tr>\n",
       "  </tbody>\n",
       "</table>\n",
       "</div>"
      ],
      "text/plain": [
       "    ride_id  fare_amount          pickup_datetime  pickup_longitude  \\\n",
       "0  24238194          7.5  2015-05-07 19:52:06 UTC        -73.999817   \n",
       "1  27835199          7.7  2009-07-17 20:04:56 UTC        -73.994355   \n",
       "2  44984355         12.9  2009-08-24 21:45:00 UTC        -74.005043   \n",
       "3  25894730          5.3  2009-06-26 08:22:21 UTC        -73.976124   \n",
       "4  17610152         16.0  2014-08-28 17:47:00 UTC        -73.925023   \n",
       "\n",
       "   pickup_latitude  dropoff_longitude  dropoff_latitude  passenger_count  \n",
       "0        40.738354         -73.999512         40.723217                1  \n",
       "1        40.728225         -73.994710         40.750325                1  \n",
       "2        40.740770         -73.962565         40.772647                1  \n",
       "3        40.790844         -73.965316         40.803349                3  \n",
       "4        40.744085         -73.973082         40.761247                5  "
      ]
     },
     "execution_count": 2,
     "metadata": {},
     "output_type": "execute_result"
    }
   ],
   "source": [
    "df = pd.read_csv(\"uber_rides_data.xlsx - sample_train.csv\")\n",
    "df.head()"
   ]
  },
  {
   "cell_type": "code",
   "execution_count": 3,
   "id": "937430fe",
   "metadata": {},
   "outputs": [
    {
     "data": {
      "text/plain": [
       "(200000, 8)"
      ]
     },
     "execution_count": 3,
     "metadata": {},
     "output_type": "execute_result"
    }
   ],
   "source": [
    "df.shape"
   ]
  },
  {
   "cell_type": "code",
   "execution_count": 4,
   "id": "0a410541",
   "metadata": {},
   "outputs": [
    {
     "name": "stdout",
     "output_type": "stream",
     "text": [
      "<class 'pandas.core.frame.DataFrame'>\n",
      "RangeIndex: 200000 entries, 0 to 199999\n",
      "Data columns (total 8 columns):\n",
      " #   Column             Non-Null Count   Dtype  \n",
      "---  ------             --------------   -----  \n",
      " 0   ride_id            200000 non-null  int64  \n",
      " 1   fare_amount        200000 non-null  float64\n",
      " 2   pickup_datetime    200000 non-null  object \n",
      " 3   pickup_longitude   200000 non-null  float64\n",
      " 4   pickup_latitude    200000 non-null  float64\n",
      " 5   dropoff_longitude  199999 non-null  float64\n",
      " 6   dropoff_latitude   199999 non-null  float64\n",
      " 7   passenger_count    200000 non-null  int64  \n",
      "dtypes: float64(5), int64(2), object(1)\n",
      "memory usage: 12.2+ MB\n"
     ]
    }
   ],
   "source": [
    "df.info()"
   ]
  },
  {
   "cell_type": "code",
   "execution_count": 5,
   "id": "d99b041e",
   "metadata": {},
   "outputs": [
    {
     "data": {
      "text/plain": [
       "ride_id              0\n",
       "fare_amount          0\n",
       "pickup_datetime      0\n",
       "pickup_longitude     0\n",
       "pickup_latitude      0\n",
       "dropoff_longitude    1\n",
       "dropoff_latitude     1\n",
       "passenger_count      0\n",
       "dtype: int64"
      ]
     },
     "execution_count": 5,
     "metadata": {},
     "output_type": "execute_result"
    }
   ],
   "source": [
    "df.isna().sum()"
   ]
  },
  {
   "cell_type": "code",
   "execution_count": 6,
   "id": "3c3b896a",
   "metadata": {},
   "outputs": [
    {
     "data": {
      "text/plain": [
       "0        2015-05-07 19:52:06+00:00\n",
       "1        2009-07-17 20:04:56+00:00\n",
       "2        2009-08-24 21:45:00+00:00\n",
       "3        2009-06-26 08:22:21+00:00\n",
       "4        2014-08-28 17:47:00+00:00\n",
       "                    ...           \n",
       "199995   2012-10-28 10:49:00+00:00\n",
       "199996   2014-03-14 01:09:00+00:00\n",
       "199997   2009-06-29 00:42:00+00:00\n",
       "199998   2015-05-20 14:56:25+00:00\n",
       "199999   2010-05-15 04:08:00+00:00\n",
       "Name: pickup_datetime, Length: 200000, dtype: datetime64[ns, UTC]"
      ]
     },
     "execution_count": 6,
     "metadata": {},
     "output_type": "execute_result"
    }
   ],
   "source": [
    "pd.to_datetime(df['pickup_datetime'])"
   ]
  },
  {
   "cell_type": "code",
   "execution_count": 11,
   "id": "ed9b6d54",
   "metadata": {},
   "outputs": [
    {
     "data": {
      "text/html": [
       "<div>\n",
       "<style scoped>\n",
       "    .dataframe tbody tr th:only-of-type {\n",
       "        vertical-align: middle;\n",
       "    }\n",
       "\n",
       "    .dataframe tbody tr th {\n",
       "        vertical-align: top;\n",
       "    }\n",
       "\n",
       "    .dataframe thead th {\n",
       "        text-align: right;\n",
       "    }\n",
       "</style>\n",
       "<table border=\"1\" class=\"dataframe\">\n",
       "  <thead>\n",
       "    <tr style=\"text-align: right;\">\n",
       "      <th></th>\n",
       "      <th>ride_id</th>\n",
       "      <th>fare_amount</th>\n",
       "      <th>pickup_datetime</th>\n",
       "      <th>pickup_longitude</th>\n",
       "      <th>pickup_latitude</th>\n",
       "      <th>dropoff_longitude</th>\n",
       "      <th>dropoff_latitude</th>\n",
       "      <th>passenger_count</th>\n",
       "    </tr>\n",
       "  </thead>\n",
       "  <tbody>\n",
       "    <tr>\n",
       "      <th>87946</th>\n",
       "      <td>32736015</td>\n",
       "      <td>24.1</td>\n",
       "      <td>2013-07-02 03:51:57 UTC</td>\n",
       "      <td>-73.950581</td>\n",
       "      <td>40.779692</td>\n",
       "      <td>NaN</td>\n",
       "      <td>NaN</td>\n",
       "      <td>0</td>\n",
       "    </tr>\n",
       "  </tbody>\n",
       "</table>\n",
       "</div>"
      ],
      "text/plain": [
       "        ride_id  fare_amount          pickup_datetime  pickup_longitude  \\\n",
       "87946  32736015         24.1  2013-07-02 03:51:57 UTC        -73.950581   \n",
       "\n",
       "       pickup_latitude  dropoff_longitude  dropoff_latitude  passenger_count  \n",
       "87946        40.779692                NaN               NaN                0  "
      ]
     },
     "execution_count": 11,
     "metadata": {},
     "output_type": "execute_result"
    }
   ],
   "source": [
    "df[df['dropoff_longitude'].isna()]"
   ]
  },
  {
   "cell_type": "code",
   "execution_count": 12,
   "id": "4b743d3f",
   "metadata": {},
   "outputs": [
    {
     "data": {
      "text/html": [
       "<div>\n",
       "<style scoped>\n",
       "    .dataframe tbody tr th:only-of-type {\n",
       "        vertical-align: middle;\n",
       "    }\n",
       "\n",
       "    .dataframe tbody tr th {\n",
       "        vertical-align: top;\n",
       "    }\n",
       "\n",
       "    .dataframe thead th {\n",
       "        text-align: right;\n",
       "    }\n",
       "</style>\n",
       "<table border=\"1\" class=\"dataframe\">\n",
       "  <thead>\n",
       "    <tr style=\"text-align: right;\">\n",
       "      <th></th>\n",
       "      <th>ride_id</th>\n",
       "      <th>fare_amount</th>\n",
       "      <th>pickup_datetime</th>\n",
       "      <th>pickup_longitude</th>\n",
       "      <th>pickup_latitude</th>\n",
       "      <th>dropoff_longitude</th>\n",
       "      <th>dropoff_latitude</th>\n",
       "      <th>passenger_count</th>\n",
       "    </tr>\n",
       "  </thead>\n",
       "  <tbody>\n",
       "    <tr>\n",
       "      <th>0</th>\n",
       "      <td>24238194</td>\n",
       "      <td>7.5</td>\n",
       "      <td>2015-05-07 19:52:06 UTC</td>\n",
       "      <td>-73.999817</td>\n",
       "      <td>40.738354</td>\n",
       "      <td>-73.999512</td>\n",
       "      <td>40.723217</td>\n",
       "      <td>1</td>\n",
       "    </tr>\n",
       "    <tr>\n",
       "      <th>1</th>\n",
       "      <td>27835199</td>\n",
       "      <td>7.7</td>\n",
       "      <td>2009-07-17 20:04:56 UTC</td>\n",
       "      <td>-73.994355</td>\n",
       "      <td>40.728225</td>\n",
       "      <td>-73.994710</td>\n",
       "      <td>40.750325</td>\n",
       "      <td>1</td>\n",
       "    </tr>\n",
       "    <tr>\n",
       "      <th>2</th>\n",
       "      <td>44984355</td>\n",
       "      <td>12.9</td>\n",
       "      <td>2009-08-24 21:45:00 UTC</td>\n",
       "      <td>-74.005043</td>\n",
       "      <td>40.740770</td>\n",
       "      <td>-73.962565</td>\n",
       "      <td>40.772647</td>\n",
       "      <td>1</td>\n",
       "    </tr>\n",
       "    <tr>\n",
       "      <th>3</th>\n",
       "      <td>25894730</td>\n",
       "      <td>5.3</td>\n",
       "      <td>2009-06-26 08:22:21 UTC</td>\n",
       "      <td>-73.976124</td>\n",
       "      <td>40.790844</td>\n",
       "      <td>-73.965316</td>\n",
       "      <td>40.803349</td>\n",
       "      <td>3</td>\n",
       "    </tr>\n",
       "    <tr>\n",
       "      <th>4</th>\n",
       "      <td>17610152</td>\n",
       "      <td>16.0</td>\n",
       "      <td>2014-08-28 17:47:00 UTC</td>\n",
       "      <td>-73.925023</td>\n",
       "      <td>40.744085</td>\n",
       "      <td>-73.973082</td>\n",
       "      <td>40.761247</td>\n",
       "      <td>5</td>\n",
       "    </tr>\n",
       "    <tr>\n",
       "      <th>...</th>\n",
       "      <td>...</td>\n",
       "      <td>...</td>\n",
       "      <td>...</td>\n",
       "      <td>...</td>\n",
       "      <td>...</td>\n",
       "      <td>...</td>\n",
       "      <td>...</td>\n",
       "      <td>...</td>\n",
       "    </tr>\n",
       "    <tr>\n",
       "      <th>199995</th>\n",
       "      <td>42598914</td>\n",
       "      <td>3.0</td>\n",
       "      <td>2012-10-28 10:49:00 UTC</td>\n",
       "      <td>-73.987042</td>\n",
       "      <td>40.739367</td>\n",
       "      <td>-73.986525</td>\n",
       "      <td>40.740297</td>\n",
       "      <td>1</td>\n",
       "    </tr>\n",
       "    <tr>\n",
       "      <th>199996</th>\n",
       "      <td>16382965</td>\n",
       "      <td>7.5</td>\n",
       "      <td>2014-03-14 01:09:00 UTC</td>\n",
       "      <td>-73.984722</td>\n",
       "      <td>40.736837</td>\n",
       "      <td>-74.006672</td>\n",
       "      <td>40.739620</td>\n",
       "      <td>1</td>\n",
       "    </tr>\n",
       "    <tr>\n",
       "      <th>199997</th>\n",
       "      <td>27804658</td>\n",
       "      <td>30.9</td>\n",
       "      <td>2009-06-29 00:42:00 UTC</td>\n",
       "      <td>-73.986017</td>\n",
       "      <td>40.756487</td>\n",
       "      <td>-73.858957</td>\n",
       "      <td>40.692588</td>\n",
       "      <td>2</td>\n",
       "    </tr>\n",
       "    <tr>\n",
       "      <th>199998</th>\n",
       "      <td>20259894</td>\n",
       "      <td>14.5</td>\n",
       "      <td>2015-05-20 14:56:25 UTC</td>\n",
       "      <td>-73.997124</td>\n",
       "      <td>40.725452</td>\n",
       "      <td>-73.983215</td>\n",
       "      <td>40.695416</td>\n",
       "      <td>1</td>\n",
       "    </tr>\n",
       "    <tr>\n",
       "      <th>199999</th>\n",
       "      <td>11951496</td>\n",
       "      <td>14.1</td>\n",
       "      <td>2010-05-15 04:08:00 UTC</td>\n",
       "      <td>-73.984395</td>\n",
       "      <td>40.720077</td>\n",
       "      <td>-73.985508</td>\n",
       "      <td>40.768793</td>\n",
       "      <td>1</td>\n",
       "    </tr>\n",
       "  </tbody>\n",
       "</table>\n",
       "<p>199999 rows × 8 columns</p>\n",
       "</div>"
      ],
      "text/plain": [
       "         ride_id  fare_amount          pickup_datetime  pickup_longitude  \\\n",
       "0       24238194          7.5  2015-05-07 19:52:06 UTC        -73.999817   \n",
       "1       27835199          7.7  2009-07-17 20:04:56 UTC        -73.994355   \n",
       "2       44984355         12.9  2009-08-24 21:45:00 UTC        -74.005043   \n",
       "3       25894730          5.3  2009-06-26 08:22:21 UTC        -73.976124   \n",
       "4       17610152         16.0  2014-08-28 17:47:00 UTC        -73.925023   \n",
       "...          ...          ...                      ...               ...   \n",
       "199995  42598914          3.0  2012-10-28 10:49:00 UTC        -73.987042   \n",
       "199996  16382965          7.5  2014-03-14 01:09:00 UTC        -73.984722   \n",
       "199997  27804658         30.9  2009-06-29 00:42:00 UTC        -73.986017   \n",
       "199998  20259894         14.5  2015-05-20 14:56:25 UTC        -73.997124   \n",
       "199999  11951496         14.1  2010-05-15 04:08:00 UTC        -73.984395   \n",
       "\n",
       "        pickup_latitude  dropoff_longitude  dropoff_latitude  passenger_count  \n",
       "0             40.738354         -73.999512         40.723217                1  \n",
       "1             40.728225         -73.994710         40.750325                1  \n",
       "2             40.740770         -73.962565         40.772647                1  \n",
       "3             40.790844         -73.965316         40.803349                3  \n",
       "4             40.744085         -73.973082         40.761247                5  \n",
       "...                 ...                ...               ...              ...  \n",
       "199995        40.739367         -73.986525         40.740297                1  \n",
       "199996        40.736837         -74.006672         40.739620                1  \n",
       "199997        40.756487         -73.858957         40.692588                2  \n",
       "199998        40.725452         -73.983215         40.695416                1  \n",
       "199999        40.720077         -73.985508         40.768793                1  \n",
       "\n",
       "[199999 rows x 8 columns]"
      ]
     },
     "execution_count": 12,
     "metadata": {},
     "output_type": "execute_result"
    }
   ],
   "source": [
    "df.dropna()"
   ]
  },
  {
   "cell_type": "markdown",
   "id": "fc4a5f4d",
   "metadata": {},
   "source": [
    "#### Average Fare Amount"
   ]
  },
  {
   "cell_type": "code",
   "execution_count": 13,
   "id": "baad7eb1",
   "metadata": {},
   "outputs": [
    {
     "name": "stdout",
     "output_type": "stream",
     "text": [
      "The average fare amount is: 11.359955250000002\n"
     ]
    }
   ],
   "source": [
    "average_fare = df['fare_amount'].mean()\n",
    "print(f\"The average fare amount is: {average_fare}\")"
   ]
  },
  {
   "cell_type": "markdown",
   "id": "7620dd19",
   "metadata": {},
   "source": [
    "#### Havershine Distance"
   ]
  },
  {
   "cell_type": "code",
   "execution_count": 15,
   "id": "ae11f9f1",
   "metadata": {},
   "outputs": [
    {
     "name": "stdout",
     "output_type": "stream",
     "text": [
      "The median Haversine distance between pickup and dropoff locations is: 2.1209923961833708 kilometers\n"
     ]
    }
   ],
   "source": [
    "def haversine(lat1, lon1, lat2, lon2):\n",
    "    # Convert latitude and longitude from degrees to radians\n",
    "    lat1, lon1, lat2, lon2 = map(np.radians, [lat1, lon1, lat2, lon2])\n",
    "\n",
    "    # Haversine formula\n",
    "    dlat = lat2 - lat1\n",
    "    dlon = lon2 - lon1\n",
    "    a = np.sin(dlat / 2) ** 2 + np.cos(lat1) * np.cos(lat2) * np.sin(dlon / 2) ** 2\n",
    "    c = 2 * np.arctan2(np.sqrt(a), np.sqrt(1 - a))\n",
    "    r = 6371  # Radius of Earth in kilometers\n",
    "    return r * c\n",
    "\n",
    "# Calculate Haversine distances and store them in a new column 'haversine_distance'\n",
    "df['haversine_distance'] = df.apply(lambda row: haversine(row['pickup_latitude'], row['pickup_longitude'], row['dropoff_latitude'], row['dropoff_longitude']), axis=1)\n",
    "\n",
    "# Calculate the median Haversine distance\n",
    "median_haversine_distance = df['haversine_distance'].median()\n",
    "\n",
    "print(f\"The median Haversine distance between pickup and dropoff locations is: {median_haversine_distance} kilometers\")\n"
   ]
  },
  {
   "cell_type": "code",
   "execution_count": 18,
   "id": "a4e71e1c",
   "metadata": {},
   "outputs": [
    {
     "name": "stdout",
     "output_type": "stream",
     "text": [
      "The maximum Haversine distance between pickup and dropoff locations is: 16409.239135313168 kilometers\n"
     ]
    }
   ],
   "source": [
    "# Find the maximum Haversine distance\n",
    "max_haversine_distance = df['haversine_distance'].max()\n",
    "\n",
    "print(f\"The maximum Haversine distance between pickup and dropoff locations is: {max_haversine_distance} kilometers\")"
   ]
  },
  {
   "cell_type": "code",
   "execution_count": 19,
   "id": "b875905f",
   "metadata": {},
   "outputs": [
    {
     "name": "stdout",
     "output_type": "stream",
     "text": [
      "The number of rides with a Haversine distance of 0.0 between pickup and dropoff locations is: 5632\n"
     ]
    }
   ],
   "source": [
    "# Count the rides with a Haversine distance of 0.0\n",
    "zero_distance_rides = df[df['haversine_distance'] == 0.0]\n",
    "count_zero_distance_rides = len(zero_distance_rides)\n",
    "\n",
    "print(f\"The number of rides with a Haversine distance of 0.0 between pickup and dropoff locations is: {count_zero_distance_rides}\")"
   ]
  },
  {
   "cell_type": "code",
   "execution_count": 20,
   "id": "5e086d58",
   "metadata": {},
   "outputs": [
    {
     "name": "stdout",
     "output_type": "stream",
     "text": [
      "The mean 'fare_amount' for rides with a Haversine distance of 0.0 is: 11.585317826704546\n"
     ]
    }
   ],
   "source": [
    "# Calculate the mean fare_amount\n",
    "mean_fare_for_zero_distance_rides = zero_distance_rides['fare_amount'].mean()\n",
    "\n",
    "print(f\"The mean 'fare_amount' for rides with a Haversine distance of 0.0 is: {mean_fare_for_zero_distance_rides}\")\n"
   ]
  },
  {
   "cell_type": "code",
   "execution_count": 23,
   "id": "694675cd",
   "metadata": {},
   "outputs": [
    {
     "name": "stdout",
     "output_type": "stream",
     "text": [
      "       passenger_count  haversine_distance\n",
      "count    200000.000000       199999.000000\n",
      "mean          1.684535           20.855350\n",
      "std           1.385997          382.964642\n",
      "min           0.000000            0.000000\n",
      "25%           1.000000            1.215222\n",
      "50%           1.000000            2.120992\n",
      "75%           2.000000            3.875169\n",
      "max         208.000000        16409.239135\n"
     ]
    }
   ],
   "source": [
    "summary_stats = df[['passenger_count', 'haversine_distance']].describe()\n",
    "print(summary_stats)"
   ]
  },
  {
   "cell_type": "markdown",
   "id": "a7e67f45",
   "metadata": {},
   "source": [
    "Observations\n",
    "\n",
    "The maximum passenger count is unusually high at 208, which could be an outlier or data error.\n",
    "\n",
    "The majority of rides have between 1 and 2 passengers, as indicated by the 25th, 50th (median), and 75th percentiles."
   ]
  },
  {
   "cell_type": "markdown",
   "id": "3d160ee3",
   "metadata": {},
   "source": [
    "#### Max Fare Amount"
   ]
  },
  {
   "cell_type": "code",
   "execution_count": 25,
   "id": "7391dead",
   "metadata": {},
   "outputs": [
    {
     "name": "stdout",
     "output_type": "stream",
     "text": [
      "The maximum 'fare_amount' for a ride is: 499.0\n"
     ]
    }
   ],
   "source": [
    "max_fare_amount = df['fare_amount'].max()\n",
    "print(f\"The maximum 'fare_amount' for a ride is: {max_fare_amount}\")"
   ]
  },
  {
   "cell_type": "code",
   "execution_count": 27,
   "id": "8b30f979",
   "metadata": {},
   "outputs": [
    {
     "name": "stdout",
     "output_type": "stream",
     "text": [
      "The Haversine distance between pickup and dropoff for the costliest ride is: 0.0007899213191009994 kilometers\n"
     ]
    }
   ],
   "source": [
    "# Find the row with the maximum 'fare_amount'\n",
    "max_fare_ride = df[df['fare_amount'] == df['fare_amount'].max()]\n",
    "\n",
    "# Extract the coordinates for pickup and dropoff locations\n",
    "pickup_longitude = max_fare_ride['pickup_longitude'].values[0]\n",
    "pickup_latitude = max_fare_ride['pickup_latitude'].values[0]\n",
    "dropoff_longitude = max_fare_ride['dropoff_longitude'].values[0]\n",
    "dropoff_latitude = max_fare_ride['dropoff_latitude'].values[0]\n",
    "\n",
    "# Calculate the Haversine distance\n",
    "distance = haversine(pickup_latitude, pickup_longitude, dropoff_latitude, dropoff_longitude)\n",
    "\n",
    "print(f\"The Haversine distance between pickup and dropoff for the costliest ride is: {distance} kilometers\")"
   ]
  },
  {
   "cell_type": "code",
   "execution_count": 28,
   "id": "48e1e164",
   "metadata": {},
   "outputs": [
    {
     "data": {
      "text/plain": [
       "(199978, 9)"
      ]
     },
     "execution_count": 28,
     "metadata": {},
     "output_type": "execute_result"
    }
   ],
   "source": [
    "df_sample = df[df['fare_amount'] > 0]\n",
    "df_sample.shape"
   ]
  },
  {
   "cell_type": "code",
   "execution_count": 29,
   "id": "b443ae02",
   "metadata": {},
   "outputs": [
    {
     "name": "stderr",
     "output_type": "stream",
     "text": [
      "C:\\Users\\tripl\\AppData\\Local\\Temp/ipykernel_17500/1680929793.py:2: SettingWithCopyWarning: \n",
      "A value is trying to be set on a copy of a slice from a DataFrame.\n",
      "Try using .loc[row_indexer,col_indexer] = value instead\n",
      "\n",
      "See the caveats in the documentation: https://pandas.pydata.org/pandas-docs/stable/user_guide/indexing.html#returning-a-view-versus-a-copy\n",
      "  df_sample['fare_per_km'] = df_sample['fare_amount'] / df_sample['haversine_distance']\n"
     ]
    }
   ],
   "source": [
    "# Calculate the fare per kilometer by dividing fare_amount by haversine_distance\n",
    "df_sample['fare_per_km'] = df_sample['fare_amount'] / df_sample['haversine_distance']"
   ]
  },
  {
   "cell_type": "code",
   "execution_count": 32,
   "id": "fc936fda",
   "metadata": {},
   "outputs": [
    {
     "data": {
      "image/png": "[encoded data removed]",
      "text/plain": [
       "<Figure size 1200x600 with 1 Axes>"
      ]
     },
     "metadata": {},
     "output_type": "display_data"
    }
   ],
   "source": [
    "# Scatter Plot\n",
    "plt.figure(figsize=(12, 6))\n",
    "sns.scatterplot(data=df_sample, x='haversine_distance', y='fare_amount', alpha=0.5)\n",
    "plt.title('Scatter Plot of Haversine Distance vs. Fare Amount')\n",
    "plt.xlabel('Haversine Distance (km)')\n",
    "plt.ylabel('Fare Amount ($)')\n",
    "plt.show()\n",
    "the scatter plot of havershine distance vs fare amount shows that "
   ]
  },
  {
   "cell_type": "code",
   "execution_count": 34,
   "id": "3faf2b71",
   "metadata": {},
   "outputs": [
    {
     "data": {
      "image/png": "[encoded data removed]",
      "text/plain": [
       "<Figure size 1200x600 with 1 Axes>"
      ]
     },
     "metadata": {},
     "output_type": "display_data"
    },
    {
     "data": {
      "image/png": "[encoded data removed]",
      "text/plain": [
       "<Figure size 1200x600 with 1 Axes>"
      ]
     },
     "metadata": {},
     "output_type": "display_data"
    }
   ],
   "source": [
    "# Histograms\n",
    "plt.figure(figsize=(12, 6))\n",
    "sns.histplot(df_sample['haversine_distance'], bins=50, kde=True)\n",
    "plt.title('Distribution of Haversine Distance')\n",
    "plt.xlabel('Haversine Distance (km)')\n",
    "plt.ylabel('Frequency')\n",
    "plt.show()\n",
    "\n",
    "plt.figure(figsize=(12, 6))\n",
    "sns.histplot(df_sample['fare_amount'], bins=50, kde=True)\n",
    "plt.title('Distribution of Fare Amount')\n",
    "plt.xlabel('Fare Amount ($)')\n",
    "plt.ylabel('Frequency')\n",
    "plt.show()"
   ]
  },
  {
   "cell_type": "code",
   "execution_count": 36,
   "id": "216eedf3",
   "metadata": {},
   "outputs": [
    {
     "name": "stdout",
     "output_type": "stream",
     "text": [
      "Correlation between Haversine Distance and Fare Amount: 0.03\n"
     ]
    }
   ],
   "source": [
    "# Calculate correlation between haversine_distance and fare_amount\n",
    "correlation = df_sample['haversine_distance'].corr(df_sample['fare_amount'])\n",
    "print(f\"Correlation between Haversine Distance and Fare Amount: {correlation:.2f}\")"
   ]
  },
  {
   "cell_type": "markdown",
   "id": "ebae685f",
   "metadata": {},
   "source": [
    "Obersvations\n",
    "\n",
    "The correlation of 0.03 indicates that the linear relationship between Haversine Distance and Fare Amount is very weak.\n",
    "This would mean there could be many other factors influencing the fare amount of a ride, such as time of day, traffic conditions, ride duration, and any pricing surcharges or discounts applied by the ride-sharing service."
   ]
  },
  {
   "cell_type": "markdown",
   "id": "a09e6ece",
   "metadata": {},
   "source": [
    "#### DateTime"
   ]
  },
  {
   "cell_type": "code",
   "execution_count": 39,
   "id": "d428b1d7",
   "metadata": {},
   "outputs": [
    {
     "name": "stdout",
     "output_type": "stream",
     "text": [
      "The number of rides recorded in the year 2014 is: 29968\n"
     ]
    }
   ],
   "source": [
    "# Convert 'pickup_datetime' column to datetime format\n",
    "df['pickup_datetime'] = pd.to_datetime(df['pickup_datetime'])\n",
    "\n",
    "df['pickup_year'] = df['pickup_datetime'].dt.year\n",
    "\n",
    "# Count the number of rides recorded in the year 2014\n",
    "rides_in_2014 = df[df['pickup_year'] == 2014].shape[0]\n",
    "\n",
    "print(f\"The number of rides recorded in the year 2014 is: {rides_in_2014}\")"
   ]
  },
  {
   "cell_type": "code",
   "execution_count": 40,
   "id": "a4ce6814",
   "metadata": {},
   "outputs": [
    {
     "name": "stdout",
     "output_type": "stream",
     "text": [
      "The number of rides recorded in the first quarter of 2014 is: 7687\n"
     ]
    }
   ],
   "source": [
    "df['pickup_quarter'] = df['pickup_datetime'].dt.quarter\n",
    "\n",
    "# Count the number of rides recorded in the first quarter of 2014 (Q1 2014)\n",
    "rides_in_q1_2014 = df[(df['pickup_year'] == 2014) & (df['pickup_quarter'] == 1)].shape[0]\n",
    "\n",
    "print(f\"The number of rides recorded in the first quarter of 2014 is: {rides_in_q1_2014}\")"
   ]
  },
  {
   "cell_type": "code",
   "execution_count": 41,
   "id": "9228c557",
   "metadata": {},
   "outputs": [
    {
     "name": "stdout",
     "output_type": "stream",
     "text": [
      "On Thursday in September 2010, the maximum number of rides (457 rides) were recorded.\n"
     ]
    },
    {
     "name": "stderr",
     "output_type": "stream",
     "text": [
      "C:\\Users\\tripl\\AppData\\Local\\Temp/ipykernel_17500/2736389650.py:7: SettingWithCopyWarning: \n",
      "A value is trying to be set on a copy of a slice from a DataFrame.\n",
      "Try using .loc[row_indexer,col_indexer] = value instead\n",
      "\n",
      "See the caveats in the documentation: https://pandas.pydata.org/pandas-docs/stable/user_guide/indexing.html#returning-a-view-versus-a-copy\n",
      "  rides_in_september_2010['day_of_week'] = rides_in_september_2010['pickup_datetime'].dt.day_name()\n"
     ]
    }
   ],
   "source": [
    "df['pickup_month'] = df['pickup_datetime'].dt.month\n",
    "\n",
    "# Filter for rides that occurred in September 2010\n",
    "rides_in_september_2010 = df[(df['pickup_year'] == 2010) & (df['pickup_month'] == 9)]\n",
    "\n",
    "# Extract the day of the week from 'pickup_datetime' and create a new column 'day_of_week'\n",
    "rides_in_september_2010['day_of_week'] = rides_in_september_2010['pickup_datetime'].dt.day_name()\n",
    "\n",
    "# Count the number of rides for each day of the week\n",
    "day_of_week_counts = rides_in_september_2010['day_of_week'].value_counts()\n",
    "\n",
    "# Find the day of the week with the maximum number of rides\n",
    "max_rides_day = day_of_week_counts.idxmax()\n",
    "max_rides_count = day_of_week_counts.max()\n",
    "\n",
    "print(f\"On {max_rides_day} in September 2010, the maximum number of rides ({max_rides_count} rides) were recorded.\")"
   ]
  },
  {
   "cell_type": "markdown",
   "id": "6f25184b",
   "metadata": {},
   "source": [
    "#### Apply a Machine Learning Algorithm to predict the fare amount "
   ]
  },
  {
   "cell_type": "markdown",
   "id": "892b02ae",
   "metadata": {},
   "source": [
    "following input features:\n",
    "passenger_count, distance and ride_week_day.\n",
    "\n",
    "Perform a 70-30 split of data.\n",
    "\n",
    "Which algorithm gives the least adjusted R square value?"
   ]
  },
  {
   "cell_type": "code",
   "execution_count": 45,
   "id": "59cd97be",
   "metadata": {},
   "outputs": [],
   "source": [
    "from sklearn.model_selection import train_test_split\n",
    "from sklearn.linear_model import LinearRegression\n",
    "from sklearn.ensemble import RandomForestRegressor\n",
    "from sklearn.metrics import r2_score\n",
    "import statsmodels.api as sm"
   ]
  },
  {
   "cell_type": "code",
   "execution_count": 59,
   "id": "32ee8f08",
   "metadata": {},
   "outputs": [],
   "source": [
    "df['ride_week_day'] = df['pickup_datetime'].dt.day_name()"
   ]
  },
  {
   "cell_type": "code",
   "execution_count": 54,
   "id": "613b16a0",
   "metadata": {},
   "outputs": [
    {
     "data": {
      "text/plain": [
       "(199999, 18)"
      ]
     },
     "execution_count": 54,
     "metadata": {},
     "output_type": "execute_result"
    }
   ],
   "source": [
    "df.dropna(inplace=True)\n",
    "df.shape"
   ]
  },
  {
   "cell_type": "code",
   "execution_count": 61,
   "id": "c6cc93b1",
   "metadata": {},
   "outputs": [
    {
     "name": "stdout",
     "output_type": "stream",
     "text": [
      "Adjusted R-squared for Linear Regression: 0.0014\n",
      "Adjusted R-squared for Random Forest Regression: 0.6295\n"
     ]
    }
   ],
   "source": [
    "# One-hot encode the 'ride_week_day' column\n",
    "df = pd.get_dummies(df, columns=['ride_week_day'], drop_first=True)\n",
    "\n",
    "# Prepare the input features and target variable\n",
    "X = df[['passenger_count', 'haversine_distance', 'ride_week_day_Monday', 'ride_week_day_Saturday', 'ride_week_day_Sunday', 'ride_week_day_Thursday', 'ride_week_day_Tuesday', 'ride_week_day_Wednesday']]\n",
    "y = df['fare_amount']\n",
    "\n",
    "# Split the data into training and testing sets (70% train, 30% test)\n",
    "X_train, X_test, y_train, y_test = train_test_split(X, y, test_size=0.3, random_state=42)\n",
    "\n",
    "# Linear Regression\n",
    "linear_reg = LinearRegression()\n",
    "linear_reg.fit(X_train, y_train)\n",
    "y_pred_linear = linear_reg.predict(X_test)\n",
    "\n",
    "# Calculate R-squared for Linear Regression\n",
    "r2_linear = r2_score(y_test, y_pred_linear)\n",
    "\n",
    "# Random Forest Regression\n",
    "random_forest_reg = RandomForestRegressor(random_state=42)\n",
    "random_forest_reg.fit(X_train, y_train)\n",
    "y_pred_rf = random_forest_reg.predict(X_test)\n",
    "\n",
    "# Calculate R-squared for Random Forest Regression\n",
    "r2_rf = r2_score(y_test, y_pred_rf)\n",
    "\n",
    "# Adjusted R-squared for Linear Regression\n",
    "X_train_const = sm.add_constant(X_train)\n",
    "ols_model = sm.OLS(y_train, X_train_const).fit()\n",
    "adj_r2_linear = ols_model.rsquared_adj\n",
    "\n",
    "# Adjusted R-squared for Random Forest Regression\n",
    "adj_r2_rf = 1 - (1 - r2_rf) * (len(y_test) - 1) / (len(y_test) - X_test.shape[1] - 1)\n",
    "\n",
    "# Compare adjusted R-squared values\n",
    "print(f\"Adjusted R-squared for Linear Regression: {adj_r2_linear:.4f}\")\n",
    "print(f\"Adjusted R-squared for Random Forest Regression: {adj_r2_rf:.4f}\")"
   ]
  },
  {
   "cell_type": "markdown",
   "id": "edfcff72",
   "metadata": {},
   "source": [
    "Input\n",
    "\n",
    "This is a regression task to predict the fare amount based on the input features: passenger_count, distance, and ride_week_day. So We only need Linear Regression and Random Forest Regression"
   ]
  },
  {
   "cell_type": "code",
   "execution_count": null,
   "id": "9e1855ac",
   "metadata": {},
   "outputs": [],
   "source": []
  }
 ],
 "metadata": {
  "kernelspec": {
   "display_name": "Python 3 (ipykernel)",
   "language": "python",
   "name": "python3"
  },
  "language_info": {
   "codemirror_mode": {
    "name": "ipython",
    "version": 3
   },
   "file_extension": ".py",
   "mimetype": "text/x-python",
   "name": "python",
   "nbconvert_exporter": "python",
   "pygments_lexer": "ipython3",
   "version": "3.9.16"
  }
 },
 "nbformat": 4,
 "nbformat_minor": 5
}
